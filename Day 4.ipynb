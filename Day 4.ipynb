{
 "cells": [
  {
   "cell_type": "markdown",
   "metadata": {},
   "source": [
    "## Dictionaries\n",
    "    - works on concept of unique data\n",
    "    - key,value is unique identifier a value\n",
    "    - key separated from value by colon:\n",
    "    - key and value separated by comma,\n",
    "    - enclosed by {}\n",
    "    "
   ]
  },
  {
   "cell_type": "code",
   "execution_count": null,
   "metadata": {},
   "outputs": [],
   "source": [
    "di= {\"name\":\"Martin\", \"E-mail\":\"martin123@mail.com\",\"address\":\"4th ave street, IL\"}\n",
    "print(di)"
   ]
  },
  {
   "cell_type": "code",
   "execution_count": null,
   "metadata": {},
   "outputs": [],
   "source": [
    "di[\"E-mail\"]                  #access specific value"
   ]
  },
  {
   "cell_type": "code",
   "execution_count": null,
   "metadata": {},
   "outputs": [],
   "source": [
    "di[\"E-mail\"]=\"martinemailupdate@mail.com\"     #update any item\n",
    "di[\"E-mail\"]"
   ]
  },
  {
   "cell_type": "code",
   "execution_count": null,
   "metadata": {},
   "outputs": [],
   "source": [
    "di.keys()     #return all keys"
   ]
  },
  {
   "cell_type": "code",
   "execution_count": null,
   "metadata": {},
   "outputs": [],
   "source": [
    "di.values()     #all values\n"
   ]
  },
  {
   "cell_type": "code",
   "execution_count": null,
   "metadata": {},
   "outputs": [],
   "source": [
    "del di[\"E-mail\"]    #deletes specified value\n"
   ]
  },
  {
   "cell_type": "code",
   "execution_count": null,
   "metadata": {},
   "outputs": [],
   "source": [
    "di"
   ]
  },
  {
   "cell_type": "code",
   "execution_count": null,
   "metadata": {},
   "outputs": [],
   "source": [
    "# create contacts application\n",
    "\n",
    "contacts = {}\n",
    "def addcontact(name,phone):\n",
    "    if name not in contacts:\n",
    "        contacts[name]=phone\n",
    "        print('contact details are added successfully')\n",
    "    else:\n",
    "        print('name exists')\n",
    "    return\n",
    "addcontact('Harry','8977678734')\n",
    "addcontact('Martin','784342287')\n",
    "addcontact('Martin','773345793')\n",
    "            "
   ]
  },
  {
   "cell_type": "code",
   "execution_count": null,
   "metadata": {},
   "outputs": [],
   "source": [
    "def searchcontact(name):\n",
    "    if name in contacts:\n",
    "        print(name,\" : \", contacts[name])\n",
    "    else:\n",
    "        print('{0} not present'.format(name))\n",
    "        return\n",
    "searchcontact('Harry')\n",
    "searchcontact('Martin')\n",
    "searchcontact('Bob')"
   ]
  },
  {
   "cell_type": "code",
   "execution_count": null,
   "metadata": {},
   "outputs": [],
   "source": [
    "# import new contact details\n",
    "def importcontact(newcontact):\n",
    "    contacts.update(newcontacts)\n",
    "    print(len(newcontact.keys()), \"Contacts added\")\n",
    "    return\n",
    "newcontact = {'python':1234567890,'Bill':987654321,'Ambani':345678987654}\n",
    "importcontact(newcontact)\n",
    "print(newcontact)\n",
    "print(contacts)"
   ]
  },
  {
   "cell_type": "code",
   "execution_count": null,
   "metadata": {},
   "outputs": [],
   "source": [
    "def modifycontact(name,phone):\n",
    "    if name in contacts:\n",
    "        contacts[name]=phone\n",
    "        print(name,\"updated successfully\")\n",
    "    else:\n",
    "        print(name, 'not exists')\n",
    "    return\n",
    "modifycontact('Bill','88888888888')\n",
    "modifycontact('Mango','1111111111')\n",
    "print(contacts)"
   ]
  },
  {
   "cell_type": "code",
   "execution_count": null,
   "metadata": {},
   "outputs": [],
   "source": [
    "def deletecontact(name):\n",
    "    if name in contacts:\n",
    "        del contacts[name]\n",
    "        print(name,'Deleted successfully')\n",
    "    else:\n",
    "        print(name, 'not present')\n",
    "    return\n",
    "deletecontact('Ambani')\n",
    "print(contacts)"
   ]
  },
  {
   "cell_type": "markdown",
   "metadata": {},
   "source": [
    "## Tuples\n",
    "- tuples encolsed with pasranthesis()\n",
    "## diffrences between tuples and list\n",
    "\n",
    "    - lists are mutable -- can be changed/modified\n",
    "    \n",
    "        - read and write the data\n",
    "    - tuples are immutable --cannot be changed and modified\n",
    "    \n",
    "        -read data only"
   ]
  },
  {
   "cell_type": "code",
   "execution_count": null,
   "metadata": {},
   "outputs": [],
   "source": [
    "t1=(1,2,3,4,5)\n",
    "print(t1)\n",
    "type(t1)"
   ]
  },
  {
   "cell_type": "markdown",
   "metadata": {},
   "source": [
    "## standard libraries\n",
    "    -regular expressions\n",
    "    -to validate indian mobile number\n",
    "    -to validate emailid\n",
    "    -to validate username\n",
    "    -to validate password\n",
    "\n",
    "    -understanding the end of regular experssion\n",
    "    -[0-9]--any digit matching\n",
    "    -[a-z]--any lower case matching\n",
    "    -[A-Z]--any upper case matching\n",
    "    -cap symbol is used to represent start of regular experssion\n",
    "    "
   ]
  },
  {
   "cell_type": "code",
   "execution_count": null,
   "metadata": {},
   "outputs": [],
   "source": [
    "import re\n",
    "def twodigitmatching(n):\n",
    "    pattern='^[0-9][2]$'                      #REGEXPAL.COM - Check any expression\n",
    "    n=str(n)\n",
    "    if re.match(pattern,n):\n",
    "        return True\n",
    "    return False\n",
    "print(twodigitmatching(12))#true\n",
    "print(twodigitmatching(123))#false"
   ]
  },
  {
   "cell_type": "code",
   "execution_count": null,
   "metadata": {},
   "outputs": [],
   "source": [
    "#regular expression for username\n",
    "#usename -- should conatain lower and upper case characters#\n",
    "#length -- min 5 max 12\n",
    "def validusername(s):\n",
    "    pattern='^[a-z A-Z]{5,12}$'\n",
    "    if re.match(pattern,s):\n",
    "        return True\n",
    "    return False\n",
    "print(validusername('Mohit Upadhyay'))\n",
    "print(validusername('mohit'))"
   ]
  },
  {
   "cell_type": "markdown",
   "metadata": {},
   "source": [
    "## regular expression\n",
    "\n",
    "    -regular expression for roll number\n",
    "        -example: 1512A1801 #valid\n",
    "        -example: 1612A3404 #not valid\n",
    "    -regular expression for password\n",
    "        -parameters- len min 6 max 10\n",
    "        -accept lower case,upper case,digit and spl(@ ! #)\n",
    "        -example: pass123@123    #valid\n",
    "        -example: pass12*21  #invalid"
   ]
  },
  {
   "cell_type": "markdown",
   "metadata": {},
   "source": [
    "## expression for Indian mobile number\n",
    "    -10 digit number\n",
    "        -first numbers between 6 to 9\n",
    "        -following numbers between 0 to 9\n",
    "            -ex: 9849167854 #true\n",
    "            -ex: 3785932075 #false\n",
    "    -11 digit number\n",
    "        -first number 0\n",
    "        - ex: 09849167854 #true\n",
    "    -13 digit number\n",
    "        - first + symbol\n",
    "        - second number 9\n",
    "        - third number 1\n",
    "        - followed by [0-9]\n",
    "        \n",
    "    "
   ]
  },
  {
   "cell_type": "code",
   "execution_count": null,
   "metadata": {},
   "outputs": [],
   "source": [
    "#rule 1: ^[6-9][0-9]{9}$\n",
    "#rule 2: ^[0][6-9][0-9]{9}$\n",
    "#rule 3: ^[+][9][1][6-9][0-9]{9}$"
   ]
  },
  {
   "cell_type": "code",
   "execution_count": null,
   "metadata": {},
   "outputs": [],
   "source": [
    "import re\n",
    "def indianmobile(n):\n",
    "    pattern = '^[6-9][0-9]{9}$|^[0][6-9][0-9]{9}$|^[+][9][1][6-9][0-9]{9}$'\n",
    "    n=str(n)\n",
    "    if re.match(pattern,n):\n",
    "        return True\n",
    "    return False\n",
    "print(indianmobile('+919849167888'))\n",
    "print(indianmobile('8765432189'))\n",
    "print(indianmobile('09876543218'))\n",
    "print(indianmobile('1234567890'))"
   ]
  },
  {
   "cell_type": "markdown",
   "metadata": {},
   "source": [
    "### validate email id\n",
    "    -Ex : username@domain.extension\n",
    "    -username:\n",
    "        -len of string will be 6-15\n",
    "        - no spl char except _"
   ]
  },
  {
   "cell_type": "code",
   "execution_count": null,
   "metadata": {},
   "outputs": [],
   "source": [
    "import re\n",
    "def email(n):\n",
    "    pattern = '^[0-9a-zA-Z][0-9a-zA-Z_.]{3,20}|[@][][.][a-z]{1,5}$'\n",
    "    n=str(n)\n",
    "    if re.match(pattern,n):\n",
    "        return True\n",
    "    return False\n",
    "n=input(\"E-mail :\")\n",
    "print(email(n))"
   ]
  },
  {
   "cell_type": "markdown",
   "metadata": {},
   "source": [
    "## math library"
   ]
  },
  {
   "cell_type": "code",
   "execution_count": null,
   "metadata": {},
   "outputs": [],
   "source": [
    "from math import factorial as f\n",
    "print(f(7))"
   ]
  },
  {
   "cell_type": "markdown",
   "metadata": {},
   "source": [
    "### random function"
   ]
  },
  {
   "cell_type": "code",
   "execution_count": null,
   "metadata": {},
   "outputs": [],
   "source": [
    "import random\n",
    "#function to generate random numbers\n",
    "def generate(n,lb,ub):\n",
    "    for i in range(0,n):\n",
    "        print(random.randint(lb,ub),end=' ')\n",
    "    return\n",
    "generate(10,1,64)"
   ]
  },
  {
   "cell_type": "code",
   "execution_count": null,
   "metadata": {},
   "outputs": [],
   "source": [
    "from random import randint as rdint\n",
    "def generate(n,lb,ub):\n",
    "    li=[]\n",
    "    for i in range(0,n):\n",
    "        li.append(rdint(lb,ub))\n",
    "    print(li)\n",
    "    return li\n",
    "def check(n):\n",
    "    li=generate(20,100,199)\n",
    "    if n in li:\n",
    "        print(\"congrats!!\")\n",
    "    else:\n",
    "        print(\"Try again :-(\")\n",
    "    return\n",
    "check(172)"
   ]
  },
  {
   "cell_type": "code",
   "execution_count": null,
   "metadata": {},
   "outputs": [],
   "source": [
    "#import package Turtle\n",
    "#all commands available in this file\n",
    "import turtle\n",
    "\n",
    "a1=turtle.Turtle()\n",
    "a1.color(\"red\")\n",
    "a1.fillcolor('blue')\n",
    "a1.begin_fill()\n",
    "\n",
    "a1.forward(192)\n",
    "a1.right(100)\n",
    "a1.left(90)\n",
    "a1.forward(200)\n",
    "a1.right(90)\n",
    "a1.forward(200)\n",
    "a1.left(90)\n",
    "a1.backward(200)\n",
    "a1.backward(100)\n",
    "a1.left(120)\n",
    "a1.forward(200)\n",
    "a1.forward(300)\n",
    "a1.left(90)\n",
    "a1.forward(50)\n",
    "a1.left(90)\n",
    "a1.forward(250)\n",
    "a1.right(130)\n",
    "a1.fillcolor(\"yellow\")\n",
    "a1.begin_fill()\n",
    "a1.circle(100)\n",
    "a1.end_fill()\n",
    "a1.fillcolor(\"green\")\n",
    "a1.begin_fill()\n",
    "a1.circle(80)\n",
    "a1.end_fill()\n",
    "a1.fillcolor(\"orange\")\n",
    "a1.begin_fill()\n",
    "a1.circle(60)\n",
    "a1.end_fill()\n",
    "a1.fillcolor(\"red\")\n",
    "a1.begin_fill()\n",
    "a1.circle(40)\n",
    "a1.end_fill()\n",
    "a1.fillcolor(\"violet\")\n",
    "a1.begin_fill()\n",
    "a1.circle(20)\n",
    "a1.end_fill()\n",
    "\n",
    "a1.fillcolor('blue')\n",
    "a1.begin_fill()\n",
    "\n",
    "\n",
    "\n",
    "a1.fillcolor('blue')\n",
    "a1.begin_fill()\n",
    "for i in range(4):\n",
    "  a1.forward(150)\n",
    "  a1.right(90)\n",
    "a1.end_fill()\n",
    "\n",
    "\n",
    "turtle.done()\n"
   ]
  },
  {
   "cell_type": "code",
   "execution_count": null,
   "metadata": {},
   "outputs": [],
   "source": [
    "import turtle as t\n",
    "a1 = t.Turtle()\n",
    "for i in range(40):\n",
    "    a1.forward(50)\n",
    "    a1.right(144)\n",
    "t.done\n"
   ]
  },
  {
   "cell_type": "code",
   "execution_count": null,
   "metadata": {},
   "outputs": [],
   "source": [
    "#rollnumber\n",
    "import re\n",
    "def roll(n):\n",
    "    pattern = '^[1][2][0-9][0-9][0-9][0][0-8][0-1][0-9][0][0-8][0-9]$'\n",
    "    n=str(n)\n",
    "    if re.match(pattern,n):\n",
    "        return True\n",
    "    return False\n",
    "print(roll(\"121810307030\"))\n",
    "print(roll(\"131852245122\"))"
   ]
  },
  {
   "cell_type": "code",
   "execution_count": 13,
   "metadata": {},
   "outputs": [
    {
     "name": "stdout",
     "output_type": "stream",
     "text": [
      "True\n",
      "True\n"
     ]
    }
   ],
   "source": [
    "#^[a-zA-Z]\n",
    "#^[0-9]\n",
    "#^[@]|[!]|[#]\n",
    "import re\n",
    "def pwd(n):\n",
    "    pattern = '^[A-Za-z0-9]{3,10}|^[@ # !]$'\n",
    "    n=str(n)\n",
    "    if re.match(pattern,n):\n",
    "        return True\n",
    "    return False\n",
    "print(pwd(\"Pass1@2abc\"))\n",
    "print(pwd(\"1234567890\"))"
   ]
  },
  {
   "cell_type": "code",
   "execution_count": 14,
   "metadata": {},
   "outputs": [
    {
     "data": {
      "text/plain": [
       "<function turtle.mainloop()>"
      ]
     },
     "execution_count": 14,
     "metadata": {},
     "output_type": "execute_result"
    }
   ],
   "source": [
    "\n",
    "import turtle\n",
    "a1=turtle.Turtle()\n",
    "a1.backward(100)\n",
    "a1.left(90)\n",
    "a1.backward(100)\n",
    "a1.left(90)\n",
    "a1.backward(100)\n",
    "a1.left(90)\n",
    "a1.backward(100)\n",
    "turtle.done\n"
   ]
  },
  {
   "cell_type": "code",
   "execution_count": 4,
   "metadata": {},
   "outputs": [
    {
     "name": "stdout",
     "output_type": "stream",
     "text": [
      "3.141592653589793\n",
      "2.718281828459045\n",
      "0.5235987755982988\n",
      "29.999999999999996\n",
      "0.49999999999999994\n",
      "0.8660254037844387\n",
      "0.5773502691896257\n",
      "2.302585092994046\n",
      "1.0\n",
      "16.0\n"
     ]
    }
   ],
   "source": [
    "#import functions \n",
    "import math\n",
    "print(math.pi)\n",
    "print(math.e)\n",
    "print(math.radians(30))\n",
    "print(math.degrees(math.pi/6))\n",
    "print(math.sin(0.5235987755982988))\n",
    "print(math.cos(0.5235987755982988))\n",
    "print(math.tan(0.5235987755982988))\n",
    "print(math.log(10))\n",
    "print(math.log10(10))\n",
    "print(math.pow(2,4))"
   ]
  },
  {
   "cell_type": "code",
   "execution_count": 16,
   "metadata": {},
   "outputs": [
    {
     "name": "stdout",
     "output_type": "stream",
     "text": [
      "8190 "
     ]
    }
   ],
   "source": [
    "#4 digits generate\n",
    "import random\n",
    "def generate(n,lb,ub):\n",
    "    for i in range(0,n):\n",
    "        print(random.randint(lb,ub),end=' ')\n",
    "    return\n",
    "generate(1,1000,9999)"
   ]
  }
 ],
 "metadata": {
  "kernelspec": {
   "display_name": "Python 3",
   "language": "python",
   "name": "python3"
  },
  "language_info": {
   "codemirror_mode": {
    "name": "ipython",
    "version": 3
   },
   "file_extension": ".py",
   "mimetype": "text/x-python",
   "name": "python",
   "nbconvert_exporter": "python",
   "pygments_lexer": "ipython3",
   "version": "3.7.3"
  }
 },
 "nbformat": 4,
 "nbformat_minor": 2
}
