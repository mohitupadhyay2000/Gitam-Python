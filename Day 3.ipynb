{
 "cells": [
  {
   "cell_type": "markdown",
   "metadata": {},
   "source": [
    "# Strings\n",
    "- strings\n",
    "- string slicing\n",
    "- fundamental programs"
   ]
  },
  {
   "cell_type": "code",
   "execution_count": null,
   "metadata": {},
   "outputs": [],
   "source": [
    "s1='python'\n",
    "s2=\"hello\"\n",
    "print (s1)\n",
    "print (s2)\n",
    "print (type(s1))\n",
    "print (type(s2))"
   ]
  },
  {
   "cell_type": "code",
   "execution_count": null,
   "metadata": {},
   "outputs": [],
   "source": [
    "s1= 'string'\n",
    "dir(s1)"
   ]
  },
  {
   "cell_type": "markdown",
   "metadata": {},
   "source": [
    "# string slicing"
   ]
  },
  {
   "cell_type": "code",
   "execution_count": null,
   "metadata": {},
   "outputs": [],
   "source": [
    "s1=\"anaconda\"\n",
    "print(s1[3]) #accessing a character\n",
    "print(len(s1))#string length\n",
    "print( s1[len(s1)-1]) #last character\n",
    "print(s1[-1])# last character other way\n",
    "print(s1[-2])# second last character"
   ]
  },
  {
   "cell_type": "code",
   "execution_count": null,
   "metadata": {},
   "outputs": [],
   "source": [
    "print(s1[0:2]) #aCCESSING FIRST TWO CHARACTERS\n",
    "print (s1[-2]) # from last  two characters\n",
    "print (s1[3:])  #from 3rd character\n",
    "print (s1[2:5])  #print in a range\n",
    "print (s1[1::-1])# print first and lst"
   ]
  },
  {
   "cell_type": "code",
   "execution_count": null,
   "metadata": {},
   "outputs": [],
   "source": [
    "s1[-1::-1] #reverse string"
   ]
  },
  {
   "cell_type": "code",
   "execution_count": null,
   "metadata": {},
   "outputs": [],
   "source": [
    "print(s1[::2]) #alternate characters\n",
    "print(s1 [::-2])#reverse alternate             "
   ]
  },
  {
   "cell_type": "markdown",
   "metadata": {},
   "source": [
    "# functions on string"
   ]
  },
  {
   "cell_type": "code",
   "execution_count": null,
   "metadata": {},
   "outputs": [],
   "source": [
    "#reverse string\n",
    "def reversestr(s1):\n",
    "    return s1[-1::-1]\n",
    "reversestr('ABCD')"
   ]
  },
  {
   "cell_type": "markdown",
   "metadata": {},
   "source": [
    "### string boolean"
   ]
  },
  {
   "cell_type": "code",
   "execution_count": 16,
   "metadata": {},
   "outputs": [
    {
     "name": "stdout",
     "output_type": "stream",
     "text": [
      "False\n",
      "True\n"
     ]
    }
   ],
   "source": [
    "s1=\"python\"\n",
    "print(s1.isupper())\n",
    "print(s1.islower())"
   ]
  },
  {
   "cell_type": "code",
   "execution_count": 19,
   "metadata": {},
   "outputs": [
    {
     "name": "stdout",
     "output_type": "stream",
     "text": [
      "Enter string :this is a SENTENCE\n",
      "THIS IS A SENTENCE\n",
      "this is a sentence\n"
     ]
    }
   ],
   "source": [
    "s1=input(\"Enter string :\")\n",
    "print(s1.upper())\n",
    "print(s1.lower())"
   ]
  },
  {
   "cell_type": "code",
   "execution_count": 22,
   "metadata": {},
   "outputs": [
    {
     "name": "stdout",
     "output_type": "stream",
     "text": [
      "True\n"
     ]
    }
   ],
   "source": [
    "s1=\"Python Program\"\n",
    "print(s1.istitle()) #first char is uppercase"
   ]
  },
  {
   "cell_type": "code",
   "execution_count": 23,
   "metadata": {},
   "outputs": [
    {
     "name": "stdout",
     "output_type": "stream",
     "text": [
      "True\n",
      "False\n"
     ]
    }
   ],
   "source": [
    "s1 = \"123456789\"       #string is completely numeric\n",
    "s2 = \"py123\"\n",
    "print(s1.isnumeric())\n",
    "print(s2.isnumeric())"
   ]
  },
  {
   "cell_type": "code",
   "execution_count": 25,
   "metadata": {},
   "outputs": [
    {
     "name": "stdout",
     "output_type": "stream",
     "text": [
      "False\n",
      "True\n"
     ]
    }
   ],
   "source": [
    "s1 = \"123456789\"       #string is completely alphabetic\n",
    "s2 = \"python\"\n",
    "print(s1.isalpha())\n",
    "print(s2.isalpha())"
   ]
  },
  {
   "cell_type": "code",
   "execution_count": 27,
   "metadata": {},
   "outputs": [
    {
     "name": "stdout",
     "output_type": "stream",
     "text": [
      "True\n"
     ]
    }
   ],
   "source": [
    "s1= \" \"    #string is space\n",
    "print(s1.isspace())"
   ]
  },
  {
   "cell_type": "markdown",
   "metadata": {},
   "source": [
    "### more string functions"
   ]
  },
  {
   "cell_type": "code",
   "execution_count": null,
   "metadata": {},
   "outputs": [],
   "source": [
    "#palindrome\n",
    "def palindrome(s1):\n",
    "    if s1==s1[-1::-1]: #if s1 is equal to its reverse\n",
    "        return True\n",
    "    return False\n",
    "print(palindrome('racecar'))\n",
    "print(palindrome('alaska'))"
   ]
  },
  {
   "cell_type": "code",
   "execution_count": null,
   "metadata": {},
   "outputs": [],
   "source": [
    "#print uppercase \n",
    "# inpuut stRinG\n",
    "# output RG\n",
    "#ASCII \n",
    "#A-Z : 65 to 90\n",
    "#a-z : 97 to 122\n",
    "#0-9 : 48-57\n",
    "# space : 32\n",
    "def printupper(s):\n",
    "    for i in range(len(s)):\n",
    "        if ord(s[i])>=65 and ord(s[i])<=90:\n",
    "            print(s[i],end=' ')\n",
    "    return\n",
    "printupper('pYthOn') # Y O\n",
    "\n",
    "\n"
   ]
  },
  {
   "cell_type": "code",
   "execution_count": null,
   "metadata": {},
   "outputs": [],
   "source": [
    "ord('m') #ord func outputs ascii value"
   ]
  },
  {
   "cell_type": "code",
   "execution_count": null,
   "metadata": {},
   "outputs": [],
   "source": [
    "#func to return  output as \"samecount\" or \"programming\" \n",
    "#samecount -- lower and upper characters have same count\n",
    "#programming -- count of lower and uupper case is not same\n",
    "\n",
    "#ex1: PyThOn --3  P T O\n",
    "#           -- 3  y h n\n",
    "#output samecount\n",
    "#ex2: PythoN --2 P N\n",
    "#                --4 y t h o\n",
    "def samecount(a1):\n",
    "    up=0\n",
    "    lo=0\n",
    "    for i in range(len(a1)):\n",
    "        if ord(a1[i])>=97 and ord(a1[i])<=122:\n",
    "            up=up+1\n",
    "        if ord(a1[i])>=65 and ord(a1[i])<=90:\n",
    "            lo=lo+1\n",
    "    if up==lo:\n",
    "        print(\"samecount\")\n",
    "    else:\n",
    "        print(\"programming\")\n",
    "samecount(\"pyTHOn\")\n",
    "samecount(\"pythON\")\n",
    "samecount(\"abCDEf\")"
   ]
  },
  {
   "cell_type": "code",
   "execution_count": null,
   "metadata": {},
   "outputs": [],
   "source": [
    "#function to extract the digit from string\n",
    "#example 1\n",
    "#       input : appli33ati87on\n",
    "#       output: 3387\n",
    "def stringnumber(a):\n",
    "    for i in range(len(a)):\n",
    "        if ord(a[i])>=48 and ord(a[i])<=57:\n",
    "            print (a[i], end=' ')\n",
    "stringnumber(\"c0ns3qu3nc35\")"
   ]
  },
  {
   "cell_type": "code",
   "execution_count": null,
   "metadata": {},
   "outputs": [],
   "source": [
    "#function to add digits of given string\n",
    "#example : input c0ns3qu3nc3s\n",
    "#       output 9(0+3+3+3)\n",
    "def stringnumber(a):\n",
    "    z=0\n",
    "    for i in range(len(a)):\n",
    "        if ord(a[i])>=48 and ord(a[i])<=57:\n",
    "            z=z+int(a[i])\n",
    "            \n",
    "    print(z)\n",
    "stringnumber(\"c0ns3qu3nc35\")\n",
    "\n"
   ]
  },
  {
   "cell_type": "code",
   "execution_count": 6,
   "metadata": {},
   "outputs": [
    {
     "name": "stdout",
     "output_type": "stream",
     "text": [
      "IS"
     ]
    }
   ],
   "source": [
    "#function to print a particular word in uppercase\n",
    "#example: python made easy\n",
    "#output : MADE\n",
    "\n",
    "#example2: python using anaconda\n",
    "#output : PYTHON\n",
    "def wordupper(st):\n",
    "    space=0\n",
    "    for i in range(len(st)):\n",
    "        if(ord(st[i]))==32:\n",
    "            space+=1\n",
    "        if space==1:\n",
    "            if ord(st[i])>=65 and ord(st[i])<=90:\n",
    "                print(st[i],end=' ')\n",
    "            elif ord(st[i])>=97 and ord(st[i])<=122:\n",
    "                print(chr(ord(st[i])-32), end='')\n",
    "        if space==2:\n",
    "            break\n",
    "    return\n",
    "wordupper('python is easy')"
   ]
  },
  {
   "cell_type": "markdown",
   "metadata": {},
   "source": [
    "### methods in strings"
   ]
  },
  {
   "cell_type": "code",
   "execution_count": 31,
   "metadata": {},
   "outputs": [
    {
     "name": "stdout",
     "output_type": "stream",
     "text": [
      "['python', 'programming']\n"
     ]
    }
   ],
   "source": [
    "s=\"python programming \"   # string --> list\n",
    "li=s.split() \n",
    "print(li)"
   ]
  },
  {
   "cell_type": "code",
   "execution_count": 32,
   "metadata": {},
   "outputs": [
    {
     "name": "stdout",
     "output_type": "stream",
     "text": [
      "['python progr', 'mming']\n"
     ]
    }
   ],
   "source": [
    "s1=\"python programming\"\n",
    "li=s1.split('a')\n",
    "print(li)"
   ]
  },
  {
   "cell_type": "code",
   "execution_count": 33,
   "metadata": {},
   "outputs": [
    {
     "name": "stdout",
     "output_type": "stream",
     "text": [
      "python progr@mming\n"
     ]
    }
   ],
   "source": [
    "s=\"python programming \" \n",
    "print(s1.replace('a', '@'))"
   ]
  },
  {
   "cell_type": "code",
   "execution_count": 41,
   "metadata": {},
   "outputs": [
    {
     "name": "stdout",
     "output_type": "stream",
     "text": [
      "c.o.n.s.t.e.l.l.a.t.i.o.n. .o.f. .s.t.a.r.s\n"
     ]
    }
   ],
   "source": [
    "s1 = \"constellation of stars\"\n",
    "print(\".\".join(s1))"
   ]
  },
  {
   "cell_type": "markdown",
   "metadata": {},
   "source": [
    "# list \n",
    "- ds in python\n",
    "- store and search optins\n",
    "- items of a list separated by comma and enclosed in []\n",
    "    -Example\n",
    "        L1=[1,2,3,4,5]\n",
    "        L2=[\"name\",1,2,3,5.345,\"apple\"]"
   ]
  },
  {
   "cell_type": "code",
   "execution_count": null,
   "metadata": {},
   "outputs": [],
   "source": [
    "li=[1,4,76.77,\"apple\"]\n",
    "print(li)\n",
    "print(li[2])#access 2nd item\n",
    "print(li[-1])#access last item\n",
    "print(li[2:])#from 2nd item\n",
    "print(li[:-1])#excluding last\n",
    "print(li[::-1])# reverse"
   ]
  },
  {
   "cell_type": "code",
   "execution_count": null,
   "metadata": {},
   "outputs": [],
   "source": [
    "#change the list values\n",
    "li[2]=\"Norway\"\n",
    "print(li)"
   ]
  },
  {
   "cell_type": "code",
   "execution_count": null,
   "metadata": {},
   "outputs": [],
   "source": [
    "#delete list value\n",
    "del li[3]\n",
    "print(li)"
   ]
  },
  {
   "cell_type": "code",
   "execution_count": null,
   "metadata": {},
   "outputs": [],
   "source": [
    "li=[1,2,3,4,5,6,7,8]  #l3ngth\n",
    "print(len(li))\n",
    "print(li*2)#print twice\n",
    "print(4 in li)#check if item is present in list\n",
    "print(10 in li)\n",
    "for i in range(len(li)): #TO DEFINE\n",
    "    print(li[i],end=' ')\n",
    "print()\n",
    "for i in li:      #another way to define\n",
    "    print(i,end=' ')\n",
    "\n"
   ]
  },
  {
   "cell_type": "markdown",
   "metadata": {},
   "source": [
    "# list functions"
   ]
  },
  {
   "cell_type": "code",
   "execution_count": null,
   "metadata": {},
   "outputs": [],
   "source": [
    "li=[1,45,32,67,76,77]\n",
    "print(max(li)) #max\n",
    "print(min(li))#min\n",
    "print(sum(li))#sum\n",
    "print(sum(li)//len(li))#average"
   ]
  },
  {
   "cell_type": "markdown",
   "metadata": {},
   "source": [
    "# methods"
   ]
  },
  {
   "cell_type": "code",
   "execution_count": null,
   "metadata": {},
   "outputs": [],
   "source": [
    "li=[1,5,6,7,9]\n",
    "li.append(29)#add item\n",
    "print(li)\n",
    "li.insert(2,49)#add element at specific index\n",
    "print(li)\n",
    "li.append(9)\n",
    "print(li)\n",
    "li.count(9)#how many repeated items\n",
    "print(li)\n",
    "li.index(5)#value at that index\n",
    "print(li)\n",
    "li.sort() #sort list\n",
    "print(li)\n",
    "li.pop(5)#POP ELEMENT\n",
    "print(li)"
   ]
  },
  {
   "cell_type": "code",
   "execution_count": null,
   "metadata": {},
   "outputs": [],
   "source": [
    "li=[1,2,3,4,5,5,6,6]\n",
    "li.reverse()\n",
    "print(li)\n",
    "li1=[98,99,97]\n",
    "li.extend(li1)\n",
    "print(li)"
   ]
  },
  {
   "cell_type": "code",
   "execution_count": null,
   "metadata": {},
   "outputs": [],
   "source": [
    "#function to return large item\n",
    "def largenum(li):\n",
    "    li.sort()\n",
    "    return li[-1]\n",
    "def genericLarge(li,n):\n",
    "    li.sort()\n",
    "    return li[-n]\n",
    "li=[191,3,45,2,77,56]\n",
    "print(largenum(li))\n",
    "print(genericLarge(li,3))"
   ]
  },
  {
   "cell_type": "code",
   "execution_count": null,
   "metadata": {},
   "outputs": [],
   "source": [
    "#function to find least and Generic least number\n",
    "def leastNumber(li):\n",
    "    li.sort()\n",
    "    return li[0]\n",
    "def gericLeast(li,n):\n",
    "    li.sort()\n",
    "    return li[n-1]\n",
    "li=[19,45,23,76,44,22]\n",
    "print(leastNumber(li))"
   ]
  },
  {
   "cell_type": "markdown",
   "metadata": {},
   "source": [
    "# file handling\n",
    "- file\n",
    "- different files - .txt, .ppt, .doc, .pdf etc..\n",
    "- input - keyboard\n",
    "- output- filesystem"
   ]
  },
  {
   "cell_type": "code",
   "execution_count": null,
   "metadata": {},
   "outputs": [],
   "source": [
    "def createfile(filename):\n",
    "    f=open(filename,'w')  #write mode(if file already exists then it rewrits the data)\n",
    "    for i in range(10):\n",
    "        f.write('this is %d \\n'%i)\n",
    "    print(\"file created\")\n",
    "    return\n",
    "createfile(\"data.txt\")"
   ]
  },
  {
   "cell_type": "code",
   "execution_count": null,
   "metadata": {},
   "outputs": [],
   "source": [
    "pwd"
   ]
  },
  {
   "cell_type": "code",
   "execution_count": null,
   "metadata": {},
   "outputs": [],
   "source": [
    "def createfile(filename):\n",
    "    f=open(filename,'w')\n",
    "    f.write(\"this is a file\")\n",
    "    print('completed')\n",
    "    return\n",
    "createfile('data.txt')"
   ]
  },
  {
   "cell_type": "code",
   "execution_count": null,
   "metadata": {},
   "outputs": [],
   "source": [
    "def appendfile(filename):\n",
    "    f=open(filename,'a')\n",
    "    f.write(\"asdfghjkl\\n\")\n",
    "    f.write(\"qwertyuiop\\n\")\n",
    "    print('completed')\n",
    "    return\n",
    "appendfile('data.txt')"
   ]
  },
  {
   "cell_type": "code",
   "execution_count": null,
   "metadata": {},
   "outputs": [],
   "source": [
    "def readdatafile(filename):\n",
    "    f=open(filename,'r')\n",
    "    if f.mode=='r':\n",
    "        a=f.read().split()\n",
    "        print(a)\n",
    "    f.close()\n",
    "    return\n",
    "readdatafile('data.txt')\n"
   ]
  },
  {
   "cell_type": "code",
   "execution_count": null,
   "metadata": {},
   "outputs": [],
   "source": [
    "#analysis on file-- word count, char cout, digit cout"
   ]
  },
  {
   "cell_type": "code",
   "execution_count": null,
   "metadata": {},
   "outputs": [],
   "source": [
    "#word count -- inputfile\n",
    "def wordcount(filename):\n",
    "    with open(filename,'r') as f:\n",
    "        if f.mode=='r':\n",
    "            a=f.read()\n",
    "            li=a.split()\n",
    "    return len(li)\n",
    "wordcount('data.txt')"
   ]
  },
  {
   "cell_type": "code",
   "execution_count": null,
   "metadata": {},
   "outputs": [],
   "source": [
    "#word count \n",
    "# ex : intput-- this\n",
    "#    op:10\n",
    "#input asdf\n",
    "#output- 1\n",
    "def wordcount(filename,wrd):\n",
    "    f=open(filename, 'r')\n",
    "    a=f.read().split()\n",
    "    print(a.count(word))\n",
    "    return\n",
    "word=input(\"Enter any word\")\n",
    "wordcount('data.txt', word)"
   ]
  },
  {
   "cell_type": "code",
   "execution_count": null,
   "metadata": {},
   "outputs": [],
   "source": [
    "#function to count characters in file\n",
    "def charcount(filename):\n",
    "    f=open(filename,'r')\n",
    "    print(len(list(f.read())))   #snajays notes\n",
    "        #li=list(a)#converts the input string into a series of characters\n",
    "    return\n",
    "charcount('data.txt')\n"
   ]
  },
  {
   "cell_type": "code",
   "execution_count": null,
   "metadata": {},
   "outputs": [],
   "source": [
    "#find number of line of rows in the given input stream\n",
    "def findcount(filename):\n",
    "    f=open(filename,'r')\n",
    "    a=f.read().split('\\n')\n",
    "    print(len(a))\n",
    "findcount('data.txt')"
   ]
  },
  {
   "cell_type": "code",
   "execution_count": 30,
   "metadata": {},
   "outputs": [
    {
     "name": "stdout",
     "output_type": "stream",
     "text": [
      "['t', 'h', 'i', 's', ' ', 'i', 's', ' ', '0', ' ', '\\n', 't', 'h', 'i', 's', ' ', 'i', 's', ' ', '1', ' ', '\\n', 't', 'h', 'i', 's', ' ', 'i', 's', ' ', '2', ' ', '\\n', 't', 'h', 'i', 's', ' ', 'i', 's', ' ', '3', ' ', '\\n', 't', 'h', 'i', 's', ' ', 'i', 's', ' ', '4', ' ', '\\n', 't', 'h', 'i', 's', ' ', 'i', 's', ' ', '5', ' ', '\\n', 't', 'h', 'i', 's', ' ', 'i', 's', ' ', '6', ' ', '\\n', 't', 'h', 'i', 's', ' ', 'i', 's', ' ', '7', ' ', '\\n', 't', 'h', 'i', 's', ' ', 'i', 's', ' ', '8', ' ', '\\n', 't', 'h', 'i', 's', ' ', 'i', 's', ' ', '9', ' ', '\\n']\n"
     ]
    },
    {
     "data": {
      "text/plain": [
       "'upper case :0 lower case :1 digit:0'"
      ]
     },
     "execution_count": 30,
     "metadata": {},
     "output_type": "execute_result"
    }
   ],
   "source": [
    "#function to find the upper and lower case characters\n",
    "def casecount(filename):\n",
    "    f=open(filename,'r')\n",
    "    lo=0\n",
    "    di=0\n",
    "    up=0\n",
    "    if f.mode=='r':\n",
    "        a=f.read()\n",
    "        li=(list(a))\n",
    "        print(li)\n",
    "    for i in range(len(li)):\n",
    "        if li[i].isupper():\n",
    "            up+=1\n",
    "        elif li[i].islower():\n",
    "            lo=+1\n",
    "        elif li[i].isnumeric():\n",
    "            di+=di\n",
    "    output ='upper case :{0} lower case :{1} digit:{2}'.format(up,lo,di)\n",
    "    return output\n",
    "casecount('data.txt')"
   ]
  },
  {
   "cell_type": "markdown",
   "metadata": {},
   "source": [
    "### string formatting\n",
    "    - classic version\n",
    "    - current python version"
   ]
  },
  {
   "cell_type": "code",
   "execution_count": 42,
   "metadata": {},
   "outputs": [
    {
     "name": "stdout",
     "output_type": "stream",
     "text": [
      "python programming\n"
     ]
    }
   ],
   "source": [
    "#classic version(c/c++)\n",
    "li = [\"python\",\"programming\"]\n",
    "print('%s %s'%(li[0],li[1]))"
   ]
  },
  {
   "cell_type": "code",
   "execution_count": 45,
   "metadata": {},
   "outputs": [
    {
     "name": "stdout",
     "output_type": "stream",
     "text": [
      "1 2 3 4 5\n"
     ]
    }
   ],
   "source": [
    "li=[1,2,3,4,5]\n",
    "print('%d %d %d %d %d' % (li[0],li[1],li[2],li[3],li[4]))"
   ]
  },
  {
   "cell_type": "code",
   "execution_count": 46,
   "metadata": {},
   "outputs": [
    {
     "name": "stdout",
     "output_type": "stream",
     "text": [
      "List Item 0 : python \n",
      "List Item 1 : programming\n"
     ]
    }
   ],
   "source": [
    "#current py version\n",
    "# .format\n",
    "li = [\"python\",\"programming\"]\n",
    "print(\"List Item 0 : {0} \\nList Item 1 : {1}\".format(li[0],li[1]))"
   ]
  },
  {
   "cell_type": "code",
   "execution_count": null,
   "metadata": {},
   "outputs": [],
   "source": [
    "str='abababadaadbbaccabc' \n",
    "print (str.count('ab',-17,-1))"
   ]
  },
  {
   "cell_type": "markdown",
   "metadata": {},
   "source": [
    "# upper case <--> lower case"
   ]
  },
  {
   "cell_type": "code",
   "execution_count": null,
   "metadata": {},
   "outputs": [],
   "source": [
    "string =input(\"String :\")\n",
    "newstring ='' \n",
    "x = 0\n",
    "y = 0\n",
    "z = 0\n",
    "  \n",
    "for a in string:  \n",
    "    if (a.isupper()) == True:\n",
    "        \n",
    "        x+= 1\n",
    "        newstring+=(a.lower())  \n",
    "    elif (a.islower()) == True: \n",
    "        y+= 1\n",
    "        newstring+=(a.upper())  \n",
    "    elif (a.isspace()) == True: \n",
    "        z+= 1\n",
    "        newstring+= a   \n",
    "print(newstring) "
   ]
  },
  {
   "cell_type": "code",
   "execution_count": 5,
   "metadata": {},
   "outputs": [
    {
     "name": "stdout",
     "output_type": "stream",
     "text": [
      "Enter a stringorange\n",
      "puboif"
     ]
    }
   ],
   "source": [
    "vowel=\"aeiou\"\n",
    "s=input(\"Enter a string\")\n",
    "for i in range(len(s)):\n",
    "    if vowel.find(s[i])!=-1:\n",
    "        print(chr(ord(s[i])+1), end=\"\")\n",
    "    else: \n",
    "        k=0\n",
    "        while ord(vowel[k])<ord(s[i]):\n",
    "            k+=1\n",
    "        print(vowel[k],end=\"\")"
   ]
  },
  {
   "cell_type": "code",
   "execution_count": 8,
   "metadata": {},
   "outputs": [
    {
     "name": "stdout",
     "output_type": "stream",
     "text": [
      "Enter stringLEarn python programming EASy\n",
      "python easy "
     ]
    }
   ],
   "source": [
    "s=input(\"Enter string\")\n",
    "sc=0\n",
    "for i in range(len(s)):\n",
    "    if s[i].isspace():\n",
    "        sc+=1\n",
    "        if sc%2==1:\n",
    "            i+=1\n",
    "            while i<len(s)and s[i]!=\" \":\n",
    "                print(s[i].lower(),end=\"\")\n",
    "                i+=1\n",
    "            print(end=\" \")\n",
    "                "
   ]
  },
  {
   "cell_type": "code",
   "execution_count": 13,
   "metadata": {},
   "outputs": [
    {
     "name": "stdout",
     "output_type": "stream",
     "text": [
      "string :applica43tion89s2\n",
      "14\n"
     ]
    }
   ],
   "source": [
    "s=input(\"string :\")\n",
    "sum=0\n",
    "for i in range(len(s)):\n",
    "    if s[i].isdigit() and int(s[i])%2==0:\n",
    "        sum+=int(s[i])\n",
    "print(sum)"
   ]
  },
  {
   "cell_type": "code",
   "execution_count": 15,
   "metadata": {},
   "outputs": [
    {
     "name": "stdout",
     "output_type": "stream",
     "text": [
      "Enter string :constellation\n",
      "Enter char :l\n",
      "2\n"
     ]
    }
   ],
   "source": [
    "def countoccurances(s,p):\n",
    "    print(s.count(p))\n",
    "    return\n",
    "s=input(\"Enter string :\")\n",
    "c=input(\"Enter char :\")\n",
    "countoccurances(s,c)"
   ]
  },
  {
   "cell_type": "code",
   "execution_count": null,
   "metadata": {},
   "outputs": [],
   "source": []
  }
 ],
 "metadata": {
  "kernelspec": {
   "display_name": "Python 3",
   "language": "python",
   "name": "python3"
  },
  "language_info": {
   "codemirror_mode": {
    "name": "ipython",
    "version": 3
   },
   "file_extension": ".py",
   "mimetype": "text/x-python",
   "name": "python",
   "nbconvert_exporter": "python",
   "pygments_lexer": "ipython3",
   "version": "3.7.3"
  }
 },
 "nbformat": 4,
 "nbformat_minor": 2
}
