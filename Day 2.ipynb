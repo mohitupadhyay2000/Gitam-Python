{
 "cells": [
  {
   "cell_type": "markdown",
   "metadata": {},
   "source": [
    "## Control statements\n",
    "- conditional statements or slection statements\n",
    "    - If-else\n",
    "- Iteration statements or loop statements\n",
    "    -while\n",
    "    -for"
   ]
  },
  {
   "cell_type": "code",
   "execution_count": null,
   "metadata": {},
   "outputs": [],
   "source": [
    "#check leap year\n",
    "year=int(input(''))\n",
    "if year % 400==0 or (year %100!=0 and year %4==0):\n",
    "    print('leap year')\n",
    "else :\n",
    "    print('not leap year')"
   ]
  },
  {
   "cell_type": "markdown",
   "metadata": {},
   "source": [
    "# while"
   ]
  },
  {
   "cell_type": "code",
   "execution_count": null,
   "metadata": {},
   "outputs": [],
   "source": [
    "# print numbers from 1 to N\n",
    "# input 10\n",
    "# output 123456789 10\n",
    "n=int(input(\"Enter number : \"))\n",
    "i=1\n",
    "while i<=n:\n",
    "    print(i,end=\" \")\n",
    "    i=i+1\n",
    "    "
   ]
  },
  {
   "cell_type": "code",
   "execution_count": null,
   "metadata": {},
   "outputs": [],
   "source": [
    "# sum of even numbers in a range\n",
    "n=int(input(\"Enter number : \"))\n",
    "i=1\n",
    "s=0\n",
    "while i<=n:\n",
    "    if i%2==0:\n",
    "        s=s+i\n",
    "    i=i+1\n",
    "print(s)\n",
    "    "
   ]
  },
  {
   "cell_type": "code",
   "execution_count": null,
   "metadata": {},
   "outputs": [],
   "source": [
    "#read a number output the digits\n",
    "n=int(input(''))\n",
    "while n!=0:\n",
    "    print(n%10, end=' ')\n",
    "    n=n//10"
   ]
  },
  {
   "cell_type": "markdown",
   "metadata": {},
   "source": [
    "# Functional programming\n",
    "- simple\n",
    "- easy understand\n",
    "- reuseability\n",
    "- reduction of code length"
   ]
  },
  {
   "cell_type": "code",
   "execution_count": null,
   "metadata": {},
   "outputs": [],
   "source": [
    "def func_name (prameters):\n",
    "    Statements\n",
    "    return"
   ]
  },
  {
   "cell_type": "code",
   "execution_count": null,
   "metadata": {},
   "outputs": [],
   "source": [
    "def evendigitsum(n):\n",
    "    s=0\n",
    "    while n!=0:\n",
    "        r=n%10\n",
    "        if r%2==0:\n",
    "            s=s+r\n",
    "        n=n//10\n",
    "    return s\n",
    "evendigitsum(7895)"
   ]
  },
  {
   "cell_type": "code",
   "execution_count": null,
   "metadata": {},
   "outputs": [],
   "source": [
    "#input 19535\n",
    "#output 9 (large digit)\n",
    "#functions\n",
    "\n",
    "def largeDigit(n):\n",
    "    large = 0\n",
    "    while n!=0:\n",
    "        r=n%10\n",
    "        if large < r:\n",
    "            large =r\n",
    "        n=n//10\n",
    "    return large\n",
    "largeDigit(19535)"
   ]
  },
  {
   "cell_type": "code",
   "execution_count": null,
   "metadata": {},
   "outputs": [],
   "source": [
    "#FACTORIAL SUM IS THE NUMBER\n",
    "# read input\n",
    "# output yes or no\n",
    "# intput 145\n",
    "# output yes\n",
    "#input 123\n",
    "# output no"
   ]
  },
  {
   "cell_type": "code",
   "execution_count": null,
   "metadata": {},
   "outputs": [],
   "source": [
    "def facto(n):\n",
    "    if  n==0 or n==1:\n",
    "        return 1\n",
    "       \n",
    "    else:\n",
    "        return n*facto(n-1)\n",
    "sum=0\n",
    "x=int(input(\"x :\"))\n",
    "y=x\n",
    "while x!=0:\n",
    "   r=x%10\n",
    "   sum=sum+facto(r)\n",
    "   x=x//10\n",
    "if y==sum:\n",
    "   print('YES')\n",
    "else:\n",
    "   print(\"NO\")\n",
    " \n",
    "   "
   ]
  },
  {
   "cell_type": "code",
   "execution_count": null,
   "metadata": {},
   "outputs": [],
   "source": [
    "#palindrome\n",
    "def palindrome(num, znum):\n",
    "    palin=0\n",
    "    while num!=0:\n",
    "        r=num%10\n",
    "        palin=(palin*10)+r\n",
    "        num=num//10\n",
    "    if znum==palin:\n",
    "        print('yup')\n",
    "    else:\n",
    "        print('nope')\n",
    "num = int(input(\" number :\"))\n",
    "znum=num\n",
    "palindrome(num, znum)\n",
    "        \n"
   ]
  },
  {
   "cell_type": "code",
   "execution_count": null,
   "metadata": {},
   "outputs": [],
   "source": [
    "#numbers bw two limits\n",
    "def printseries(lb,ub):\n",
    "    for x in range(lb, ub+1):\n",
    "        print(x,end=' ')\n",
    "    return\n",
    "printseries (11,30)"
   ]
  },
  {
   "cell_type": "code",
   "execution_count": null,
   "metadata": {},
   "outputs": [],
   "source": [
    "#alternate numbers\n",
    "def alternate(lb,ub,al):\n",
    "    for x in range (lb,ub+1,al):\n",
    "        print(x,end=' ')\n",
    "    return\n",
    "alternate(420,436,4)"
   ]
  },
  {
   "cell_type": "markdown",
   "metadata": {},
   "source": [
    "# factors\n"
   ]
  },
  {
   "cell_type": "code",
   "execution_count": 9,
   "metadata": {},
   "outputs": [
    {
     "name": "stdout",
     "output_type": "stream",
     "text": [
      "Number : 8\n",
      "1\n",
      "2\n",
      "4\n",
      "8\n"
     ]
    }
   ],
   "source": [
    "i=1\n",
    "n=int(input(\"Number : \"))\n",
    "while i<=n:\n",
    "    if n%i==0:\n",
    "        print(i)\n",
    "    i=i+1"
   ]
  },
  {
   "cell_type": "markdown",
   "metadata": {},
   "source": [
    "# Prime"
   ]
  },
  {
   "cell_type": "code",
   "execution_count": 4,
   "metadata": {},
   "outputs": [
    {
     "name": "stdout",
     "output_type": "stream",
     "text": [
      "Enter any Number: 3\n",
      "True\n"
     ]
    }
   ],
   "source": [
    "N = int(input(\"Enter any Number: \"))\n",
    "count = 0\n",
    "i = 2\n",
    "\n",
    "while i < N:\n",
    "    if (N % i == 0):\n",
    "        count = 1\n",
    "        print(\"False\")\n",
    "    i=i+1\n",
    "\n",
    "else:\n",
    "    print(\"True\")"
   ]
  },
  {
   "cell_type": "markdown",
   "metadata": {},
   "source": [
    "# Range Prime"
   ]
  },
  {
   "cell_type": "code",
   "execution_count": 8,
   "metadata": {},
   "outputs": [
    {
     "name": "stdout",
     "output_type": "stream",
     "text": [
      "Starting value10\n",
      "Ending value20\n",
      "11\n",
      "13\n",
      "17\n",
      "19\n"
     ]
    }
   ],
   "source": [
    "start = int(input(\"Starting value\"))\n",
    "end = int(input(\"Ending value\"))\n",
    "  \n",
    "for val in range(start, end + 1):  \n",
    "   if val > 1: \n",
    "       for n in range(2, val): \n",
    "           if (val % n) == 0: \n",
    "               break\n",
    "       else: \n",
    "           print(val) "
   ]
  },
  {
   "cell_type": "markdown",
   "metadata": {},
   "source": [
    "# palindrome"
   ]
  },
  {
   "cell_type": "code",
   "execution_count": 2,
   "metadata": {},
   "outputs": [
    {
     "name": "stdout",
     "output_type": "stream",
     "text": [
      "Enter lower number12\n",
      "Enter upper number54\n",
      "13\n"
     ]
    }
   ],
   "source": [
    "def palin(n):\n",
    "    t=n\n",
    "    s=0\n",
    "    while n!=0:\n",
    "        r=n%10\n",
    "        s=r+s*10\n",
    "        n=n//10\n",
    "    if s==t:\n",
    "        return 1\n",
    "    else:\n",
    "        return 0\n",
    "l=int(input(\"Enter lower number\"))\n",
    "u=int(input(\"Enter upper number\"))\n",
    "f=0\n",
    "for i in range(1,u+1):\n",
    "    if palin(i):\n",
    "        f=f+1\n",
    "print(f)"
   ]
  },
  {
   "cell_type": "markdown",
   "metadata": {},
   "source": [
    "# Shapes in numbers"
   ]
  },
  {
   "cell_type": "code",
   "execution_count": 4,
   "metadata": {},
   "outputs": [
    {
     "name": "stdout",
     "output_type": "stream",
     "text": [
      "Enter number688\n",
      "5\n"
     ]
    }
   ],
   "source": [
    "l=[1,0,0,0,1,0,1,0,2,1]\n",
    "n=int(input(\"Enter number\"))\n",
    "s=0\n",
    "while n!=0:\n",
    "    r=n%10\n",
    "    s=s+l[r]\n",
    "    n=n//10\n",
    "print(s)"
   ]
  }
 ],
 "metadata": {
  "kernelspec": {
   "display_name": "Python 3",
   "language": "python",
   "name": "python3"
  },
  "language_info": {
   "codemirror_mode": {
    "name": "ipython",
    "version": 3
   },
   "file_extension": ".py",
   "mimetype": "text/x-python",
   "name": "python",
   "nbconvert_exporter": "python",
   "pygments_lexer": "ipython3",
   "version": "3.7.3"
  }
 },
 "nbformat": 4,
 "nbformat_minor": 2
}
